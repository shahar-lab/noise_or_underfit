{
 "cells": [
  {
   "cell_type": "code",
   "execution_count": 1,
   "id": "44458c85",
   "metadata": {},
   "outputs": [
    {
     "name": "stdout",
     "output_type": "stream",
     "text": [
      "INFO:tensorflow:Enabling eager execution\n",
      "INFO:tensorflow:Enabling v2 tensorshape\n",
      "INFO:tensorflow:Enabling resource variables\n",
      "INFO:tensorflow:Enabling tensor equality\n",
      "INFO:tensorflow:Enabling control flow v2\n",
      "Num GPUs Available:  1\n"
     ]
    }
   ],
   "source": [
    "import numpy as np\n",
    "import matplotlib.pyplot as plt\n",
    "import pandas as pd\n",
    "import seaborn as sns\n",
    "from tqdm import tqdm\n",
    "\n",
    "import tensorflow as tf\n",
    "from plot_stats import *\n",
    "from utils import *\n",
    "from rnn import *\n",
    "\n",
    "print(\"Num GPUs Available: \", len(tf.config.list_physical_devices('GPU')))"
   ]
  },
  {
   "cell_type": "code",
   "execution_count": 7,
   "id": "d5c7513b",
   "metadata": {
    "scrolled": false
   },
   "outputs": [
    {
     "name": "stderr",
     "output_type": "stream",
     "text": [
      "\r",
      "  0%|                                                               | 0/2 [00:00<?, ?it/s]"
     ]
    },
    {
     "name": "stdout",
     "output_type": "stream",
     "text": [
      "*** epoch 500 ***\n",
      "agent 0\n",
      "agent 1\n",
      "agent 2\n",
      "agent 3\n",
      "agent 4\n",
      "agent 5\n",
      "agent 6\n",
      "agent 7\n",
      "agent 8\n",
      "agent 9\n",
      "agent 10\n",
      "agent 11\n",
      "agent 12\n",
      "agent 13\n",
      "agent 14\n",
      "agent 15\n",
      "agent 16\n",
      "agent 17\n",
      "agent 18\n",
      "agent 19\n",
      "agent 20\n",
      "agent 21\n",
      "agent 22\n",
      "agent 23\n",
      "agent 24\n",
      "agent 25\n",
      "agent 26\n",
      "agent 27\n",
      "agent 28\n",
      "agent 29\n",
      "agent 30\n",
      "agent 31\n",
      "agent 32\n",
      "agent 33\n",
      "agent 34\n",
      "agent 35\n",
      "agent 36\n",
      "agent 37\n",
      "agent 38\n",
      "agent 39\n",
      "agent 40\n",
      "agent 41\n",
      "agent 42\n",
      "agent 43\n",
      "agent 44\n",
      "agent 45\n",
      "agent 46\n",
      "agent 47\n",
      "agent 48\n",
      "agent 49\n"
     ]
    },
    {
     "name": "stderr",
     "output_type": "stream",
     "text": [
      "\r",
      " 50%|████████████████████████▌                        | 1/2 [1:14:36<1:14:36, 4476.17s/it]"
     ]
    },
    {
     "name": "stdout",
     "output_type": "stream",
     "text": [
      "[0.6696206033136696]\n",
      "*** epoch 1000 ***\n",
      "agent 0\n",
      "agent 1\n",
      "agent 2\n",
      "agent 3\n",
      "agent 4\n",
      "agent 5\n",
      "agent 6\n",
      "agent 7\n",
      "agent 8\n",
      "agent 9\n",
      "agent 10\n",
      "agent 11\n",
      "agent 12\n",
      "agent 13\n",
      "agent 14\n",
      "agent 15\n",
      "agent 16\n",
      "agent 17\n",
      "agent 18\n",
      "agent 19\n",
      "agent 20\n",
      "agent 21\n",
      "agent 22\n",
      "agent 23\n",
      "agent 24\n",
      "agent 25\n",
      "agent 26\n",
      "agent 27\n",
      "agent 28\n",
      "agent 29\n",
      "agent 30\n",
      "agent 31\n",
      "agent 32\n",
      "agent 33\n",
      "agent 34\n",
      "agent 35\n",
      "agent 36\n",
      "agent 37\n",
      "agent 38\n",
      "agent 39\n",
      "agent 40\n",
      "agent 41\n",
      "agent 42\n",
      "agent 43\n",
      "agent 44\n",
      "agent 45\n",
      "agent 46\n",
      "agent 47\n",
      "agent 48\n",
      "agent 49\n"
     ]
    },
    {
     "name": "stderr",
     "output_type": "stream",
     "text": [
      "100%|███████████████████████████████████████████████████| 2/2 [3:35:36<00:00, 6468.20s/it]"
     ]
    },
    {
     "name": "stdout",
     "output_type": "stream",
     "text": [
      "[0.6696206033136696, 0.8620449726190418]\n"
     ]
    },
    {
     "name": "stderr",
     "output_type": "stream",
     "text": [
      "\n"
     ]
    }
   ],
   "source": [
    "train_acc = []\n",
    "test_acc = []\n",
    "test_loss = []\n",
    "\n",
    "n_cells = 10\n",
    "batch = 50\n",
    "epochs = [500,1000]\n",
    "\n",
    "#config num of blocks for each agent \n",
    "num_of_simulation = 8\n",
    "# for cross valdation \n",
    "array = np.arange(num_of_simulation)\n",
    "cv = [np.roll(array,i) for i in range(num_of_simulation)]\n",
    "cv = np.array(cv)\n",
    "\n",
    "for epoch in tqdm(epochs):\n",
    "    print(f'*** epoch {epoch} ***')\n",
    "    \n",
    "    tt_acc = 0\n",
    "    tt_acc_t = 0\n",
    "    tt_loss = 0\n",
    "    \n",
    "    for a in range(50):\n",
    "        print(f'agent {a}')\n",
    "        for t in cv:\n",
    "            train_arr = t[0:-1]\n",
    "            test_arr = t[-1:]\n",
    "\n",
    "            path = f'../data/wsls/sim_data/wsls_agent_{a}'\n",
    "\n",
    "            model, sim_model, hist = train_a_model(\n",
    "                                                      path,\n",
    "                                                      train_arr,\n",
    "                                                      test_arr,\n",
    "                                                      num_of_trials=50,\n",
    "                                                      n_cells=n_cells,\n",
    "                                                      lr=0.001,\n",
    "                                                      epochs=epoch,\n",
    "                                                      batch_size=batch,\n",
    "                                                      cp_callback=True\n",
    "                                            )\n",
    "\n",
    "            tt_acc += hist.history['accuracy'][-1]\n",
    "            tt_acc_t += hist.history['val_accuracy'][-1]\n",
    "            tt_loss += hist.history['val_binary_crossentropy'][-1]\n",
    "    \n",
    "    train_acc.append(tt_acc/400)  \n",
    "    test_acc.append(tt_acc_t/400)\n",
    "    test_loss.append(tt_loss/400)\n",
    "    print(test_loss)"
   ]
  }
 ],
 "metadata": {
  "kernelspec": {
   "display_name": "Python 3 (ipykernel)",
   "language": "python",
   "name": "python3"
  },
  "language_info": {
   "codemirror_mode": {
    "name": "ipython",
    "version": 3
   },
   "file_extension": ".py",
   "mimetype": "text/x-python",
   "name": "python",
   "nbconvert_exporter": "python",
   "pygments_lexer": "ipython3",
   "version": "3.8.12"
  }
 },
 "nbformat": 4,
 "nbformat_minor": 5
}
