{
 "cells": [
  {
   "cell_type": "code",
   "execution_count": null,
   "id": "5ca9925f",
   "metadata": {},
   "outputs": [],
   "source": [
    "import numpy as np\n",
    "import pandas as pd \n",
    "import matplotlib.pyplot as plt\n",
    "import seaborn as sns\n",
    "from sklearn.metrics import ConfusionMatrixDisplay \n",
    "from sklearn.metrics import accuracy_score, f1_score\n"
   ]
  },
  {
   "cell_type": "code",
   "execution_count": null,
   "id": "f53c6181",
   "metadata": {},
   "outputs": [],
   "source": [
    "df = pd.read_csv('all_model_nlp.csv')\n",
    "models = {\n",
    "        'mf':['Model-Free'],\n",
    "        'mb':['Model-Based'],\n",
    "        'habit':['Habit'],\n",
    "        'wsls':['Win Stay, Lose Shift'],\n",
    "        'kdh':['k-Dominant Hand']\n",
    "}\n",
    "\n",
    "classification_by = ['test_nlp_rnn_100',\n",
    "                     'test_nlp_rnn_1000',\n",
    "                     'best_test_nlp_rnn',\n",
    "                     'test_nlp_logistic_regression'] \n",
    "\n",
    "for j in classification_by:\n",
    "    y_true = np.repeat([0,1,1,1,1],100)\n",
    "    fig, axes = plt.subplots(1, 5, figsize=(20, 4))\n",
    "    for i,m in enumerate(models):\n",
    "        if i == 3 and j == 'test_nlp_logistic_regression':\n",
    "            y_true = np.roll(y_true,100)\n",
    "            continue\n",
    "        y_pred = (np.array(df[f'test_nlp_{m}'] - df[j]) > 0).astype(int)\n",
    "        cm = ConfusionMatrixDisplay.from_predictions(ax=axes[i],y_true=y_true,y_pred=y_pred,\n",
    "                                                display_labels=[m, 'Other'],\n",
    "                                                colorbar=False,normalize='true',\n",
    "                                               cmap=\"viridis\")\n",
    "\n",
    "        acc = accuracy_score(y_true=y_true,y_pred=y_pred)\n",
    "        f1 = f1_score(y_true=y_true,y_pred=y_pred)\n",
    "        axes[i].set_title('F1-Score {:.2f} \\n\n",
    "                            Accuracy {:.2f}'.format(f1, acc),size=16)\n",
    "        axes[i].set_xticklabels([m, 'Other'],rotation=0,size=14)\n",
    "        axes[i].set_yticklabels([m, 'Other'],rotation=90,size=14)\n",
    "        axes[i].set_xlabel('',size=16)\n",
    "        axes[i].set_ylabel('',size=16)\n",
    "        y_true = np.roll(y_true,100)"
   ]
  }
 ],
 "metadata": {
  "kernelspec": {
   "display_name": "Python 3 (ipykernel)",
   "language": "python",
   "name": "python3"
  },
  "language_info": {
   "codemirror_mode": {
    "name": "ipython",
    "version": 3
   },
   "file_extension": ".py",
   "mimetype": "text/x-python",
   "name": "python",
   "nbconvert_exporter": "python",
   "pygments_lexer": "ipython3",
   "version": "3.9.7"
  }
 },
 "nbformat": 4,
 "nbformat_minor": 5
}
