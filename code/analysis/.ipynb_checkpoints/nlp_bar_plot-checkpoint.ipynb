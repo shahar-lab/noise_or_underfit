{
 "cells": [
  {
   "cell_type": "code",
   "execution_count": 1,
   "id": "e3b1c8d4",
   "metadata": {},
   "outputs": [],
   "source": [
    "import numpy as np\n",
    "import pandas as pd\n",
    "import seaborn as sns\n",
    "import matplotlib.pylab as plt\n",
    "import matplotlib.patches as mpatches"
   ]
  },
  {
   "cell_type": "code",
   "execution_count": null,
   "id": "c9d76a80",
   "metadata": {},
   "outputs": [],
   "source": [
    "df = pd.read_csv('all_model_nlp.csv')\n",
    "\n",
    "models = {\n",
    "        'mf':['$\\it{mf}$',sns.color_palette(\"viridis\", n_colors=5)[0],'Model-Free'],\n",
    "        'mb':['$\\it{mb}$',sns.color_palette(\"viridis\", n_colors=5)[1],'Model-Based'],\n",
    "        'habit':['$\\it{habit}$',sns.color_palette(\"viridis\", n_colors=5)[2],'Habit'],\n",
    "        'lwsls':['$\\it{wsls}$',sns.color_palette(\"viridis\", n_colors=5)[3],'Win Stay, Lose Shift'],\n",
    "        'kdh':['$\\it{kDH}$',sns.color_palette(\"viridis\", n_colors=5)[4],'k-Dominant Hand'],\n",
    "        'regression':['$\\it{LR}$','silver'],\n",
    "        'rnn':['$\\it{ RNN }$','gold']\n",
    "}"
   ]
  },
  {
   "cell_type": "code",
   "execution_count": null,
   "id": "e13556a5",
   "metadata": {},
   "outputs": [],
   "source": [
    "sns.set_style(\"whitegrid\")\n",
    "fig = plt.figure(figsize=(24, 5))\n",
    "gs = fig.add_gridspec(1,5, hspace=0, wspace=0.1 )\n",
    "axes = gs.subplots(sharey=True)\n",
    "\n",
    "for i,m in enumerate(models):\n",
    "    if i == 5:\n",
    "        break\n",
    "    \n",
    "    data = df.iloc[i*50:i*50+50]\n",
    "    columns_titles = ['test_nlp_mf', 'test_nlp_mb', 'test_nlp_habit',\n",
    "                      'test_nlp_wsls','test_nlp_kdh', \n",
    "                      'test_nlp_logistic_regression', 'best_test_nlp_rnn']\n",
    "    \n",
    "    data = data.reindex(columns=columns_titles)\n",
    "\n",
    "    x = [i.split('_')[-1] for i in data.columns]\n",
    "    cc = [models[i][1] for i in x]\n",
    "    names = [models[i][0] for i in x]\n",
    "    \n",
    "    data = data.sub(data[f'test_nlp_{m}'],axis=0)\n",
    "    sns.barplot(ax=axes[i],data=data,palette=cc,edgecolor=\"black\")\n",
    "    axes[i].set_xticklabels(names,size=16,rotation=45)\n",
    "    axes[i].set_title(models[m][2],size=18)\n",
    "        \n",
    "axes[0].set_ylabel('$\\it{Δ-negative-log-probability}$',size=18)\n",
    "axes[0].tick_params(axis='y', which='major', labelsize=16)\n",
    "\n",
    "a = mpatches.Patch(color=models['mf'][1], label='Model-Free')\n",
    "b = mpatches.Patch(color=models['mb'][1], label='Model-Based')\n",
    "c = mpatches.Patch(color=models['habit'][1], label='Habit')\n",
    "d = mpatches.Patch(color=models['lwsls'][1], label='Win-stay, Lose-shift')\n",
    "e = mpatches.Patch(color=models['kdh'][1], label='k-Dominant Hand')\n",
    "f = mpatches.Patch(color=models['logistic'][1], label='Logistic Regression')\n",
    "g = mpatches.Patch(color=models['rnn'][1], label='Recurrent Neural Network')\n",
    "\n",
    "axes[2].legend(handles=[a,b,c,d,e,f,g],fontsize=16, ncol = 7,bbox_to_anchor=(3.2, 1.3))"
   ]
  }
 ],
 "metadata": {
  "kernelspec": {
   "display_name": "Python 3 (ipykernel)",
   "language": "python",
   "name": "python3"
  },
  "language_info": {
   "codemirror_mode": {
    "name": "ipython",
    "version": 3
   },
   "file_extension": ".py",
   "mimetype": "text/x-python",
   "name": "python",
   "nbconvert_exporter": "python",
   "pygments_lexer": "ipython3",
   "version": "3.9.7"
  }
 },
 "nbformat": 4,
 "nbformat_minor": 5
}
