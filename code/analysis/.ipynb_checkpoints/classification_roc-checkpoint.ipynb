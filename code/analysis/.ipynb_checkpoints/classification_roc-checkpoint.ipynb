{
 "cells": [
  {
   "cell_type": "code",
   "execution_count": null,
   "id": "e287f8b4",
   "metadata": {},
   "outputs": [],
   "source": [
    "import numpy as np\n",
    "import pandas as pd \n",
    "import matplotlib.pyplot as plt\n",
    "import matplotlib.patches as mpatches\n",
    "import seaborn as sns\n",
    "from sklearn import metrics"
   ]
  },
  {
   "cell_type": "code",
   "execution_count": null,
   "id": "4eb44cfb",
   "metadata": {},
   "outputs": [],
   "source": [
    "df = pd.read_csv('all_model_nlp.csv')\n",
    "\n",
    "models = {\n",
    "        'mf':['Model-Free'],\n",
    "        'mb':['Model-Based'],\n",
    "        'habit':['Habit'],\n",
    "        'wsls':['Win Stay, Lose Shift'],\n",
    "        'kdh':['k-Dominant Hand']\n",
    "}"
   ]
  },
  {
   "cell_type": "code",
   "execution_count": null,
   "id": "918013f4",
   "metadata": {},
   "outputs": [],
   "source": [
    "y_true = np.repeat([0,1,1,1,1],100)\n",
    "\n",
    "sns.set_style(\"whitegrid\")\n",
    "fig = plt.figure(figsize=(24, 5))\n",
    "gs = fig.add_gridspec(1,5, hspace=0, wspace=0.1 )\n",
    "axes = gs.subplots(sharey=True)\n",
    "for i,m in enumerate(models):\n",
    "\n",
    "    fpr_r, tpr_r, _ = metrics.roc_curve(y_true,np.array(df[f'test_nlp_{m}'] - df['best_test_nlp_rnn']),drop_intermediate=False)\n",
    "    fpr_r_100, tpr_r_100, _ = metrics.roc_curve(y_true, np.array(df[f'test_nlp_{m}'] - df['test_nlp_rnn_100']),drop_intermediate=False)\n",
    "    fpr_r_1000, tpr_r_1000, _ = metrics.roc_curve(y_true, np.array(df[f'test_nlp_{m}'] - df['test_nlp_rnn_1000']),drop_intermediate=False)\n",
    "   \n",
    "    auc_r = metrics.auc(fpr_r, tpr_r)\n",
    "    auc_100 = metrics.auc(fpr_r_100, tpr_r_100)\n",
    "    auc_1000 = metrics.auc(fpr_r_1000, tpr_r_1000)\n",
    "    auc_l = metrics.auc(fpr_l, tpr_l)\n",
    " \n",
    "    sns.lineplot(ax=axes[i],x=fpr_r,y=tpr_r,color = sns.color_palette(\"viridis\", n_colors=4)[0])\n",
    "    sns.lineplot(ax=axes[i],x=fpr_r_100,y=tpr_r_100,color = sns.color_palette(\"viridis\", n_colors=4)[1])\n",
    "    sns.lineplot(ax=axes[i],x=fpr_r_1000,y=tpr_r_1000,color = sns.color_palette(\"viridis\", n_colors=4)[2])\n",
    "    \n",
    "    sns.lineplot(ax=axes[i],x=[0, 1],y= [0, 1], color=\"k\",ls='--')\n",
    "    \n",
    "    if i != 3:\n",
    "        fpr_l, tpr_l, _ = metrics.roc_curve(y_true, np.array(df[f'test_nlp_{m}'] - df['test_nlp_logistic_regression']),drop_intermediate=False)\n",
    "        auc_l = metrics.auc(fpr_l, tpr_l)\n",
    "        sns.lineplot(ax=axes[i],x=fpr_l,y=tpr_l,color = sns.color_palette(\"viridis\", n_colors=4)[3])\n",
    "        axes[i].legend([\n",
    "                       'AUC:{:.2f}'.format(auc_r),\n",
    "                       'AUC:{:.2f}'.format(auc_100),\n",
    "                       'AUC:{:.2f}'.format(auc_1000),\n",
    "                       'AUC:{:.2f}'.format(auc_l)],\n",
    "                       fontsize=14)\n",
    "    else:\n",
    "        axes[i].legend([\n",
    "               'AUC:{:.2f}'.format(auc_r),\n",
    "               'AUC:{:.2f}'.format(auc_100),\n",
    "               'AUC:{:.2f}'.format(auc_1000)],\n",
    "               fontsize=14)\n",
    "    \n",
    "    axes[i].set_title(models[m][0],size=18)\n",
    "    \n",
    "    y_true = np.roll(y_true,100) \n",
    "    \n",
    "axes[0].set_ylabel('True Positive Rate',size=18)\n",
    "axes[2].set_xlabel(\"False Positive Rate\",size=18)\n",
    "axes[0].tick_params(axis='y', which='major', labelsize=16)\n",
    "\n",
    "a = mpatches.Patch(color=sns.color_palette(\"viridis\", n_colors=4)[0], label='RNN Early Stopping')\n",
    "b = mpatches.Patch(color=sns.color_palette(\"viridis\", n_colors=4)[1], label='RNN 100 Epoch')\n",
    "c = mpatches.Patch(color=sns.color_palette(\"viridis\", n_colors=4)[2], label='RNN 1000 Epoch')\n",
    "d = mpatches.Patch(color=sns.color_palette(\"viridis\", n_colors=4)[3], label='Logistic Regression')\n",
    "plt.legend(handles=[a,b,c,d],fontsize=16, ncol = 4,bbox_to_anchor=(0, 1.4))"
   ]
  }
 ],
 "metadata": {
  "kernelspec": {
   "display_name": "Python 3 (ipykernel)",
   "language": "python",
   "name": "python3"
  },
  "language_info": {
   "codemirror_mode": {
    "name": "ipython",
    "version": 3
   },
   "file_extension": ".py",
   "mimetype": "text/x-python",
   "name": "python",
   "nbconvert_exporter": "python",
   "pygments_lexer": "ipython3",
   "version": "3.9.7"
  }
 },
 "nbformat": 4,
 "nbformat_minor": 5
}
