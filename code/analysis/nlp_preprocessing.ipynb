{
 "cells": [
  {
   "cell_type": "code",
   "execution_count": 18,
   "id": "8cc6643d",
   "metadata": {},
   "outputs": [],
   "source": [
    "import numpy as np\n",
    "import pandas as pd \n",
    "import matplotlib.pyplot as plt\n",
    "import seaborn as sns"
   ]
  },
  {
   "cell_type": "code",
   "execution_count": 20,
   "id": "a47cdc67",
   "metadata": {},
   "outputs": [],
   "source": [
    "# preprocessing nlp\n",
    "m = ['mf','mb','habit','wsls','kdh']\n",
    "df_theoretical_and_lr_fit = []\n",
    "df_rnn_fit = []\n",
    "h = []\n",
    "b = []\n",
    "\n",
    "for model in m:\n",
    "    \n",
    "    # theoretical and lr nlp\n",
    "    df = pd.read_csv(f'../../results/{model}/{model}_fit.csv')\n",
    "    df = df.groupby(np.arange(len(df))//5).mean()\n",
    "    select_cols = [col for col in df.columns if 'test_nlp' in col]\n",
    "    df = df[select_cols]\n",
    "    df_theoretical_and_lr_fit.append(df)\n",
    "    \n",
    "    # rnn nlp\n",
    "    df = pd.read_csv(f'../../results/{model}/rnn_fit_{model}.csv')\n",
    "    df = df.groupby(np.arange(len(df))//5).mean()\n",
    "    df = pd.DataFrame(df['test_nlp_rnn'].values.reshape(-1,100).T,\n",
    "             columns=['test_nlp_rnn_100','test_nlp_rnn_200',\n",
    "                      'test_nlp_rnn_400','test_nlp_rnn_600',\n",
    "                      'test_nlp_rnn_1000'])\n",
    "    cc = df.columns\n",
    "    for index,row in df.iterrows():\n",
    "        c = cc[row.argmin()].split('_')[-1]\n",
    "        h.append(c)\n",
    "        b.append(row.min())\n",
    "    df_rnn_fit.append(df)\n",
    "\n",
    "df_0 = pd.concat(df_theoretical_and_lr_fit)\n",
    "df_0.reset_index(inplace=True)\n",
    "df_0['agent'] = np.arange(500)\n",
    "df_0['index'] = np.repeat(['mf','mb','habit','wsls','kdh'],100)\n",
    "\n",
    "df_0.rename(columns={'index':'model'},inplace=True)  \n",
    "df_0 = df_0.reindex(columns=['agent','model', 'test_nlp_mf', 'test_nlp_mb', 'test_nlp_habit',\n",
    "                       'test_nlp_wsls','test_nlp_kdh', 'test_nlp_logistic_regression'])\n",
    "\n",
    "df_1 = pd.concat(df_rnn_fit)\n",
    "df_1.reset_index(inplace=True)\n",
    "df_1['best_test_nlp_rnn'] = b\n",
    "df_1['best_epoch'] = h\n",
    "df_1['agent'] = np.arange(500)\n",
    "df_1['index'] = np.repeat(['mf','mb','habit','wsls','kdh'],100)\n",
    "df_1.rename(columns={'index':'model'},inplace=True)\n",
    "\n",
    "df_0 = df_0.merge(df_1)\n",
    "\n",
    "df_0.to_csv('all_model_nlp.csv')"
   ]
  }
 ],
 "metadata": {
  "kernelspec": {
   "display_name": "Python 3 (ipykernel)",
   "language": "python",
   "name": "python3"
  },
  "language_info": {
   "codemirror_mode": {
    "name": "ipython",
    "version": 3
   },
   "file_extension": ".py",
   "mimetype": "text/x-python",
   "name": "python",
   "nbconvert_exporter": "python",
   "pygments_lexer": "ipython3",
   "version": "3.9.7"
  }
 },
 "nbformat": 4,
 "nbformat_minor": 5
}
