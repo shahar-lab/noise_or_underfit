{
 "cells": [
  {
   "cell_type": "code",
   "execution_count": 1,
   "id": "19c8285d",
   "metadata": {},
   "outputs": [],
   "source": [
    "import numpy as np\n",
    "import pandas as pd \n",
    "import matplotlib.pyplot as plt\n",
    "import seaborn as sns\n",
    "import scipy\n",
    "plt.rcParams['figure.figsize'] = [8,6]\n",
    "from plot_stats import *"
   ]
  },
  {
   "cell_type": "code",
   "execution_count": 7,
   "id": "00d225b0",
   "metadata": {},
   "outputs": [
    {
     "data": {
      "text/html": [
       "<div>\n",
       "<style scoped>\n",
       "    .dataframe tbody tr th:only-of-type {\n",
       "        vertical-align: middle;\n",
       "    }\n",
       "\n",
       "    .dataframe tbody tr th {\n",
       "        vertical-align: top;\n",
       "    }\n",
       "\n",
       "    .dataframe thead th {\n",
       "        text-align: right;\n",
       "    }\n",
       "</style>\n",
       "<table border=\"1\" class=\"dataframe\">\n",
       "  <thead>\n",
       "    <tr style=\"text-align: right;\">\n",
       "      <th></th>\n",
       "      <th>Unnamed: 0</th>\n",
       "      <th>agent</th>\n",
       "      <th>train_nlp_hybrid</th>\n",
       "      <th>test_acc_hybrid</th>\n",
       "      <th>test_nlp_hybrid</th>\n",
       "      <th>train_nlp_wsls</th>\n",
       "      <th>test_acc_wsls</th>\n",
       "      <th>test_nlp_wsls</th>\n",
       "      <th>train_nlp_logistic_regression</th>\n",
       "      <th>test_acc_logistic_regression</th>\n",
       "      <th>test_nlp_logistic_regression</th>\n",
       "      <th>train_acc_rnn</th>\n",
       "      <th>train_nlp_rnn</th>\n",
       "      <th>test_acc_rnn</th>\n",
       "      <th>test_nlp_rnn</th>\n",
       "    </tr>\n",
       "  </thead>\n",
       "  <tbody>\n",
       "    <tr>\n",
       "      <th>mean</th>\n",
       "      <td>199.5</td>\n",
       "      <td>24.5</td>\n",
       "      <td>0.537152</td>\n",
       "      <td>0.7012</td>\n",
       "      <td>0.518052</td>\n",
       "      <td>0.584355</td>\n",
       "      <td>0.6574</td>\n",
       "      <td>0.590491</td>\n",
       "      <td>0.561753</td>\n",
       "      <td>0.671327</td>\n",
       "      <td>0.560023</td>\n",
       "      <td>0.709843</td>\n",
       "      <td>0.560117</td>\n",
       "      <td>0.6735</td>\n",
       "      <td>0.587027</td>\n",
       "    </tr>\n",
       "  </tbody>\n",
       "</table>\n",
       "</div>"
      ],
      "text/plain": [
       "      Unnamed: 0  agent  train_nlp_hybrid  test_acc_hybrid  test_nlp_hybrid  \\\n",
       "mean       199.5   24.5          0.537152           0.7012         0.518052   \n",
       "\n",
       "      train_nlp_wsls  test_acc_wsls  test_nlp_wsls  \\\n",
       "mean        0.584355         0.6574       0.590491   \n",
       "\n",
       "      train_nlp_logistic_regression  test_acc_logistic_regression  \\\n",
       "mean                       0.561753                      0.671327   \n",
       "\n",
       "      test_nlp_logistic_regression  train_acc_rnn  train_nlp_rnn  \\\n",
       "mean                      0.560023       0.709843       0.560117   \n",
       "\n",
       "      test_acc_rnn  test_nlp_rnn  \n",
       "mean        0.6735      0.587027  "
      ]
     },
     "execution_count": 7,
     "metadata": {},
     "output_type": "execute_result"
    }
   ],
   "source": [
    "df_hybrid = pd.read_csv(f'../data/hybrid/results/hybrid_fit_dataframe.csv')\n",
    "df_mean_h = pd.DataFrame((df_hybrid.describe().loc['mean']))\n",
    "df_mean_h = df_mean_h.T\n",
    "df_mean_h = df_mean_h.T\n",
    "df_mean_h.drop(columns=['Unnamed: 0', 'agent', 'train_nlp_hybrid','train_nlp_wsls',\n",
    "       'train_nlp_logistic_regression','train_acc_rnn', 'train_nlp_rnn'],inplace=True)\n",
    "df_mean_h = df_mean_h.T\n",
    "df_mean_h"
   ]
  },
  {
   "cell_type": "code",
   "execution_count": 3,
   "id": "af59c7d9",
   "metadata": {},
   "outputs": [
    {
     "ename": "ValueError",
     "evalue": "Length of values (6) does not match length of index (9)",
     "output_type": "error",
     "traceback": [
      "\u001b[1;31m---------------------------------------------------------------------------\u001b[0m",
      "\u001b[1;31mValueError\u001b[0m                                Traceback (most recent call last)",
      "\u001b[1;32m~\\AppData\\Local\\Temp/ipykernel_17480/2862931673.py\u001b[0m in \u001b[0;36m<module>\u001b[1;34m\u001b[0m\n\u001b[0;32m      8\u001b[0m \u001b[0mcol_1\u001b[0m \u001b[1;33m=\u001b[0m \u001b[1;33m[\u001b[0m\u001b[1;34m'Accuracy'\u001b[0m\u001b[1;33m,\u001b[0m\u001b[1;34m'NLP'\u001b[0m\u001b[1;33m,\u001b[0m\u001b[1;34m'Accuracy'\u001b[0m\u001b[1;33m,\u001b[0m\u001b[1;34m'NLP'\u001b[0m\u001b[1;33m,\u001b[0m\u001b[1;34m'Accuracy'\u001b[0m\u001b[1;33m,\u001b[0m\u001b[1;34m'NLP'\u001b[0m\u001b[1;33m]\u001b[0m\u001b[1;33m\u001b[0m\u001b[1;33m\u001b[0m\u001b[0m\n\u001b[0;32m      9\u001b[0m \u001b[0mcol_2\u001b[0m \u001b[1;33m=\u001b[0m \u001b[1;33m[\u001b[0m\u001b[1;34m'Hybrid'\u001b[0m\u001b[1;33m,\u001b[0m\u001b[1;34m'Hybrid'\u001b[0m\u001b[1;33m,\u001b[0m\u001b[1;34m'Logistic Regression'\u001b[0m\u001b[1;33m,\u001b[0m\u001b[1;34m'Logistic Regression'\u001b[0m\u001b[1;33m,\u001b[0m\u001b[1;34m'RNN'\u001b[0m\u001b[1;33m,\u001b[0m\u001b[1;34m'RNN'\u001b[0m\u001b[1;33m]\u001b[0m\u001b[1;33m\u001b[0m\u001b[1;33m\u001b[0m\u001b[0m\n\u001b[1;32m---> 10\u001b[1;33m \u001b[0mdf_mean_h\u001b[0m\u001b[1;33m[\u001b[0m\u001b[1;34m'type'\u001b[0m\u001b[1;33m]\u001b[0m \u001b[1;33m=\u001b[0m \u001b[0mcol_1\u001b[0m\u001b[1;33m\u001b[0m\u001b[1;33m\u001b[0m\u001b[0m\n\u001b[0m\u001b[0;32m     11\u001b[0m \u001b[0mdf_mean_h\u001b[0m\u001b[1;33m[\u001b[0m\u001b[1;34m'Model'\u001b[0m\u001b[1;33m]\u001b[0m \u001b[1;33m=\u001b[0m \u001b[0mcol_2\u001b[0m\u001b[1;33m\u001b[0m\u001b[1;33m\u001b[0m\u001b[0m\n\u001b[0;32m     12\u001b[0m \u001b[1;33m\u001b[0m\u001b[0m\n",
      "\u001b[1;32m~\\anaconda3_yoav\\envs\\tf_25\\lib\\site-packages\\pandas\\core\\frame.py\u001b[0m in \u001b[0;36m__setitem__\u001b[1;34m(self, key, value)\u001b[0m\n\u001b[0;32m   3610\u001b[0m         \u001b[1;32melse\u001b[0m\u001b[1;33m:\u001b[0m\u001b[1;33m\u001b[0m\u001b[1;33m\u001b[0m\u001b[0m\n\u001b[0;32m   3611\u001b[0m             \u001b[1;31m# set column\u001b[0m\u001b[1;33m\u001b[0m\u001b[1;33m\u001b[0m\u001b[1;33m\u001b[0m\u001b[0m\n\u001b[1;32m-> 3612\u001b[1;33m             \u001b[0mself\u001b[0m\u001b[1;33m.\u001b[0m\u001b[0m_set_item\u001b[0m\u001b[1;33m(\u001b[0m\u001b[0mkey\u001b[0m\u001b[1;33m,\u001b[0m \u001b[0mvalue\u001b[0m\u001b[1;33m)\u001b[0m\u001b[1;33m\u001b[0m\u001b[1;33m\u001b[0m\u001b[0m\n\u001b[0m\u001b[0;32m   3613\u001b[0m \u001b[1;33m\u001b[0m\u001b[0m\n\u001b[0;32m   3614\u001b[0m     \u001b[1;32mdef\u001b[0m \u001b[0m_setitem_slice\u001b[0m\u001b[1;33m(\u001b[0m\u001b[0mself\u001b[0m\u001b[1;33m,\u001b[0m \u001b[0mkey\u001b[0m\u001b[1;33m:\u001b[0m \u001b[0mslice\u001b[0m\u001b[1;33m,\u001b[0m \u001b[0mvalue\u001b[0m\u001b[1;33m)\u001b[0m\u001b[1;33m:\u001b[0m\u001b[1;33m\u001b[0m\u001b[1;33m\u001b[0m\u001b[0m\n",
      "\u001b[1;32m~\\anaconda3_yoav\\envs\\tf_25\\lib\\site-packages\\pandas\\core\\frame.py\u001b[0m in \u001b[0;36m_set_item\u001b[1;34m(self, key, value)\u001b[0m\n\u001b[0;32m   3782\u001b[0m         \u001b[0mensure\u001b[0m \u001b[0mhomogeneity\u001b[0m\u001b[1;33m.\u001b[0m\u001b[1;33m\u001b[0m\u001b[1;33m\u001b[0m\u001b[0m\n\u001b[0;32m   3783\u001b[0m         \"\"\"\n\u001b[1;32m-> 3784\u001b[1;33m         \u001b[0mvalue\u001b[0m \u001b[1;33m=\u001b[0m \u001b[0mself\u001b[0m\u001b[1;33m.\u001b[0m\u001b[0m_sanitize_column\u001b[0m\u001b[1;33m(\u001b[0m\u001b[0mvalue\u001b[0m\u001b[1;33m)\u001b[0m\u001b[1;33m\u001b[0m\u001b[1;33m\u001b[0m\u001b[0m\n\u001b[0m\u001b[0;32m   3785\u001b[0m \u001b[1;33m\u001b[0m\u001b[0m\n\u001b[0;32m   3786\u001b[0m         if (\n",
      "\u001b[1;32m~\\anaconda3_yoav\\envs\\tf_25\\lib\\site-packages\\pandas\\core\\frame.py\u001b[0m in \u001b[0;36m_sanitize_column\u001b[1;34m(self, value)\u001b[0m\n\u001b[0;32m   4507\u001b[0m \u001b[1;33m\u001b[0m\u001b[0m\n\u001b[0;32m   4508\u001b[0m         \u001b[1;32mif\u001b[0m \u001b[0mis_list_like\u001b[0m\u001b[1;33m(\u001b[0m\u001b[0mvalue\u001b[0m\u001b[1;33m)\u001b[0m\u001b[1;33m:\u001b[0m\u001b[1;33m\u001b[0m\u001b[1;33m\u001b[0m\u001b[0m\n\u001b[1;32m-> 4509\u001b[1;33m             \u001b[0mcom\u001b[0m\u001b[1;33m.\u001b[0m\u001b[0mrequire_length_match\u001b[0m\u001b[1;33m(\u001b[0m\u001b[0mvalue\u001b[0m\u001b[1;33m,\u001b[0m \u001b[0mself\u001b[0m\u001b[1;33m.\u001b[0m\u001b[0mindex\u001b[0m\u001b[1;33m)\u001b[0m\u001b[1;33m\u001b[0m\u001b[1;33m\u001b[0m\u001b[0m\n\u001b[0m\u001b[0;32m   4510\u001b[0m         \u001b[1;32mreturn\u001b[0m \u001b[0msanitize_array\u001b[0m\u001b[1;33m(\u001b[0m\u001b[0mvalue\u001b[0m\u001b[1;33m,\u001b[0m \u001b[0mself\u001b[0m\u001b[1;33m.\u001b[0m\u001b[0mindex\u001b[0m\u001b[1;33m,\u001b[0m \u001b[0mcopy\u001b[0m\u001b[1;33m=\u001b[0m\u001b[1;32mTrue\u001b[0m\u001b[1;33m,\u001b[0m \u001b[0mallow_2d\u001b[0m\u001b[1;33m=\u001b[0m\u001b[1;32mTrue\u001b[0m\u001b[1;33m)\u001b[0m\u001b[1;33m\u001b[0m\u001b[1;33m\u001b[0m\u001b[0m\n\u001b[0;32m   4511\u001b[0m \u001b[1;33m\u001b[0m\u001b[0m\n",
      "\u001b[1;32m~\\anaconda3_yoav\\envs\\tf_25\\lib\\site-packages\\pandas\\core\\common.py\u001b[0m in \u001b[0;36mrequire_length_match\u001b[1;34m(data, index)\u001b[0m\n\u001b[0;32m    529\u001b[0m     \"\"\"\n\u001b[0;32m    530\u001b[0m     \u001b[1;32mif\u001b[0m \u001b[0mlen\u001b[0m\u001b[1;33m(\u001b[0m\u001b[0mdata\u001b[0m\u001b[1;33m)\u001b[0m \u001b[1;33m!=\u001b[0m \u001b[0mlen\u001b[0m\u001b[1;33m(\u001b[0m\u001b[0mindex\u001b[0m\u001b[1;33m)\u001b[0m\u001b[1;33m:\u001b[0m\u001b[1;33m\u001b[0m\u001b[1;33m\u001b[0m\u001b[0m\n\u001b[1;32m--> 531\u001b[1;33m         raise ValueError(\n\u001b[0m\u001b[0;32m    532\u001b[0m             \u001b[1;34m\"Length of values \"\u001b[0m\u001b[1;33m\u001b[0m\u001b[1;33m\u001b[0m\u001b[0m\n\u001b[0;32m    533\u001b[0m             \u001b[1;34mf\"({len(data)}) \"\u001b[0m\u001b[1;33m\u001b[0m\u001b[1;33m\u001b[0m\u001b[0m\n",
      "\u001b[1;31mValueError\u001b[0m: Length of values (6) does not match length of index (9)"
     ]
    }
   ],
   "source": [
    "df_hybrid = pd.read_csv(f'../data/hybrid/results/hybrid_fit_dataframe.csv')\n",
    "df_mean_h = pd.DataFrame((df_hybrid.describe().loc['mean']))\n",
    "df_mean_h = df_mean_h.T\n",
    "df_mean_h.drop(columns=['Unnamed: 0', 'agent', 'train_nlp_hybrid','train_nlp_wsls',\n",
    "       'train_nlp_logistic_regression','train_acc_rnn', 'train_nlp_rnn'],inplace=True)\n",
    "df_mean_h = df_mean_h.T\n",
    "df_mean_h.set_index(np.arange(len(df_mean_h)),inplace=True)\n",
    "col_1 = ['Accuracy','NLP','Accuracy','NLP','Accuracy','NLP']\n",
    "col_2 = ['Hybrid','Hybrid','Logistic Regression','Logistic Regression','RNN','RNN']\n",
    "df_mean_h['type'] = col_1\n",
    "df_mean_h['Model'] = col_2\n",
    "\n",
    "df_mean_h.sort_values(['mean','type'],ascending=True,inplace=True)\n",
    "\n",
    "x_1 = sns.color_palette(\"Set2\")[0]\n",
    "x_2 = sns.color_palette(\"Set2\")[1]\n",
    "x_3 = sns.color_palette(\"Set2\")[2]\n",
    "co = [x_1,x_2,x_3]\n",
    "\n",
    "plt.figure(figsize=(12,8))\n",
    "sns.barplot(x='type',y='mean',data=df_mean_h ,hue='Model',palette=co,edgecolor='black')\n",
    "plt.title('True Model Hybrid',size=18)\n",
    "plt.xlabel('Model',size=14)\n",
    "plt.tick_params(labelsize=12)\n",
    "\n",
    "plt.legend(loc='upper right')\n",
    "plt.show()"
   ]
  },
  {
   "cell_type": "code",
   "execution_count": 18,
   "id": "eea205e5",
   "metadata": {},
   "outputs": [
    {
     "data": {
      "image/png": "[encoded data removed]",
      "text/plain": [
       "<Figure size 864x576 with 1 Axes>"
      ]
     },
     "metadata": {
      "needs_background": "light"
     },
     "output_type": "display_data"
    }
   ],
   "source": [
    "plt.figure(figsize=(12,8))\n",
    "sns.barplot(x='type',y='mean',data=df_mean_h ,hue='Model',palette=co,edgecolor='black')\n",
    "plt.title('True Model Hybrid',size=18)\n",
    "plt.xlabel('Model',size=14)\n",
    "plt.tick_params(labelsize=12)\n",
    "\n",
    "plt.legend(loc='upper right')\n",
    "plt.show()"
   ]
  },
  {
   "cell_type": "code",
   "execution_count": 9,
   "id": "597476ec",
   "metadata": {},
   "outputs": [
    {
     "data": {
      "image/png": "[encoded data removed]",
      "text/plain": [
       "<Figure size 864x576 with 1 Axes>"
      ]
     },
     "metadata": {
      "needs_background": "light"
     },
     "output_type": "display_data"
    }
   ],
   "source": [
    "df_nwsls = pd.read_csv(f'data/nwsls/results/nwsls_fit_dataframe.csv')\n",
    "df_mean_nwsls = pd.DataFrame((df_nwsls.describe().loc['mean']))\n",
    "df_mean_nwsls = df_mean_nwsls.T\n",
    "df_mean_nwsls.drop(columns=['Unnamed: 0', 'agent', 'train_nlp_hybrid',\n",
    "       'train_nlp_logistic_regression','train_acc_rnn', 'train_nlp_rnn'],inplace=True)\n",
    "df_mean_nwsls = df_mean_nwsls.T\n",
    "df_mean_nwsls.set_index(np.arange(len(df_mean_nwsls)),inplace=True)\n",
    "col_1 = ['Accuracy','NLP','Accuracy','NLP','Accuracy','NLP']\n",
    "col_2 = ['Hybrid','Hybrid','Logistic Regression','Logistic Regression','RNN','RNN']\n",
    "df_mean_nwsls['type'] = col_1\n",
    "df_mean_nwsls['Model'] = col_2\n",
    "# df_mean['mean'] = [np.log2(np.exp(df_mean['mean'][i])) \\\n",
    "# if (df_mean['type'][i] == 'NLP') else df_mean['mean'][i] for i in range(len(df_mean))]\n",
    "df_mean_nwsls.sort_values(['mean','type'],ascending=True,inplace=True)\n",
    "\n",
    "x_1 = sns.color_palette(\"Set2\")[0]\n",
    "x_2 = sns.color_palette(\"Set2\")[1]\n",
    "x_3 = sns.color_palette(\"Set2\")[2]\n",
    "co = [x_2,x_1,x_3]\n",
    "\n",
    "\n",
    "plt.figure(figsize=(12,8))\n",
    "sns.barplot(x='type',y='mean',data=df_mean_nwsls ,hue='Model',palette=(co),edgecolor='black')\n",
    "plt.title('True Model NWSLS',size=18)\n",
    "plt.xlabel('Model',size=14)\n",
    "plt.tick_params(labelsize=12)\n",
    "plt.legend(loc='upper right')\n",
    "plt.show()"
   ]
  },
  {
   "cell_type": "code",
   "execution_count": null,
   "id": "3e2d2db9",
   "metadata": {},
   "outputs": [],
   "source": [
    "fig, axes = plt.subplots(1, 2, figsize=(18, 6))\n",
    "sns.barplot(ax=axes[0], x='type',y='mean',data=df_mean_h ,hue='Model',palette=co,edgecolor='black')\n",
    "axes[0].set_title('True Model Hybrid',size=18)\n",
    "sns.barplot(ax=axes[1],x='type',y='mean',data=df_mean_nwsls,hue='Model',palette=reversed(co),edgecolor='black')\n",
    "axes[1].set_title('True Model NWSLS',size=18)"
   ]
  },
  {
   "cell_type": "code",
   "execution_count": null,
   "id": "16e831e2",
   "metadata": {},
   "outputs": [],
   "source": [
    "param = {'alpha':[],\n",
    "        'beta':[],\n",
    "        'w':[]\n",
    "}\n",
    "alpha = 0\n",
    "beta = 0 \n",
    "w = 0 \n",
    "for i,p in enumerate (df_nwsls['fit_parameters_hybrid']):\n",
    "    p = p.replace('[','')\n",
    "    p = p.replace(']','')\n",
    "    p = p.replace('  ',' ')\n",
    "    indices = [z for z, w in enumerate(p) if w == '.']\n",
    "    x_0 = p[(indices[0]-1):(indices[1]-2)]\n",
    "    x_1 = p[(indices[1]-1):(indices[2]-2)]\n",
    "    x_2 = p[(indices[2]-1):]\n",
    "    alpha+=float(x_0)\n",
    "    beta+=float(x_1)\n",
    "    w+=float(x_2)\n",
    "    if i!=0 and i%5==4:\n",
    "        param['alpha'].append(alpha/5)\n",
    "        param['beta'].append(beta/5)\n",
    "        param['w'].append(w/5)\n",
    "        alpha = 0\n",
    "        beta = 0 \n",
    "        w = 0 \n",
    "df_fit_param = pd.DataFrame(param)"
   ]
  },
  {
   "cell_type": "code",
   "execution_count": null,
   "id": "500eb41d",
   "metadata": {},
   "outputs": [],
   "source": [
    "param = {'alpha':[],\n",
    "        'beta':[],\n",
    "        'w':[]\n",
    "}\n",
    "alpha = 0\n",
    "beta = 0 \n",
    "w = 0 \n",
    "for i,p in enumerate (df_hybrid['fit_parameters_hybrid']):\n",
    "    p = p.replace('[','')\n",
    "    p = p.replace(']','')\n",
    "    p = p.replace('  ',' ')\n",
    "    indices = [z for z, w in enumerate(p) if w == '.']\n",
    "    x_0 = p[(indices[0]-1):(indices[1]-2)]\n",
    "    x_1 = p[(indices[1]-1):(indices[2]-2)]\n",
    "    x_2 = p[(indices[2]-1):]\n",
    "    alpha+=float(x_0)\n",
    "    beta+=float(x_1)\n",
    "    w+=float(x_2)\n",
    "    if i!=0 and i%2==1:\n",
    "        param['alpha'].append(alpha/5)\n",
    "        param['beta'].append(beta/5)\n",
    "        param['w'].append(w/5)\n",
    "        alpha = 0\n",
    "        beta = 0 \n",
    "        w = 0 \n",
    "df_fit_param = pd.DataFrame(param)\n",
    "df_true_param = pd.read_csv('data/hybrid/sim_data/hybrid_paramters.csv')\n",
    "\n",
    "fig, axes = plt.subplots(1, 3, figsize=(18, 6))\n",
    "\n",
    "fig.text(0.5, 0.04, 'True', ha='center',size=20)\n",
    "fig.text(0.04, 0.5, 'Fit', va='center', rotation='vertical',size=20)\n",
    "\n",
    "# Bulbasaur\n",
    "sns.regplot(ax=axes[0], x=df_true_param['alpha'],y=df_fit_param['alpha'])\n",
    "axes[0].set_title('Alpha',size=20)\n",
    "\n",
    "# Charmander\n",
    "sns.regplot(ax=axes[1],x=df_true_param['beta'],y=df_fit_param['beta'])\n",
    "axes[1].set_title('Beta',size=20)\n",
    "\n",
    "# Squirtle\n",
    "sns.regplot(ax=axes[2],x=df_true_param['w'],y=df_fit_param['w'])\n",
    "axes[2].set_title('W',size=20)"
   ]
  },
  {
   "cell_type": "code",
   "execution_count": null,
   "id": "0960f992",
   "metadata": {},
   "outputs": [],
   "source": [
    "df_hy = df_hybrid.groupby(['agent'])['test_nlp_rnn'].mean().reset_index()\n",
    "df_hy['test_nlp_hybrid'] = df_hybrid.groupby(['agent'])['test_nlp_hybrid'].mean()\n",
    "df_hy['diff'] = df['test_nlp_rnn'] - df['test_nlp_hybrid']\n",
    "df_hy['true_b'] = np.repeat(1,50)\n",
    "df_hy['predict_b'] = [0 if x < 0 else 1 for x in df_hy['diff']]\n",
    "df_fit_param['agent'] = np.arange(50)\n",
    "df_hy = df_hy.merge(df_fit_param)\n",
    "df_hy"
   ]
  },
  {
   "cell_type": "code",
   "execution_count": null,
   "id": "7236d0cd",
   "metadata": {},
   "outputs": [],
   "source": [
    "df_n = df_nwsls.groupby(['agent'])['test_nlp_rnn'].mean().reset_index()\n",
    "df_n['test_nlp_hybrid'] = df_nwsls.groupby(['agent'])['test_nlp_hybrid'].mean()\n",
    "df_n['diff'] = df_n['test_nlp_rnn'] - df_n['test_nlp_hybrid']\n",
    "df_n['true_b'] = np.repeat(0,50)\n",
    "df_n['predict_b'] = [0 if x < 0 else 1 for x in df_n['diff']]\n",
    "df_fit_param['agent'] = np.arange(50)\n",
    "df_n = df_n.merge(df_fit_param)\n",
    "df_n"
   ]
  },
  {
   "cell_type": "code",
   "execution_count": null,
   "id": "68bbb0bc",
   "metadata": {},
   "outputs": [],
   "source": [
    "df = df_hybrid.groupby(['agent'])['test_nlp_rnn'].mean().reset_index()\n",
    "df['test_nlp_hybrid'] = df_hybrid.groupby(['agent'])['test_nlp_hybrid'].mean()\n",
    "df['diff'] = df['test_nlp_rnn'] - df['test_nlp_hybrid']\n",
    "df['true_b'] = np.repeat(1,50)\n",
    "df ['predict_b'] = [0 if x < 0 else 1 for x in df['diff']]\n",
    "y_true = np.array(df['true_b'])\n",
    "y_pred = np.array(df['predict_b'])\n",
    "\n",
    "df = df_nwsls.groupby(['agent'])['test_nlp_rnn'].mean().reset_index()\n",
    "df['test_nlp_hybrid'] = df_nwsls.groupby(['agent'])['test_nlp_hybrid'].mean()\n",
    "df['diff'] = df['test_nlp_rnn'] - df['test_nlp_hybrid']\n",
    "df['true_b'] = np.repeat(0,50)\n",
    "df ['predict_b'] = [0 if x < 0 else 1 for x in df['diff']]\n",
    "\n",
    "y_true =np.concatenate((y_true,np.array(df['true_b'])))\n",
    "y_pred = np.concatenate((y_pred,np.array(df['predict_b'])))\n",
    "\n",
    "from sklearn.metrics import ConfusionMatrixDisplay\n",
    "ConfusionMatrixDisplay.from_predictions(y_true=y_true,\n",
    "                                        y_pred=y_pred,\n",
    "                                        display_labels=['RNN', 'Hybrid'],\n",
    "                                       cmap=plt.cm.cividis)"
   ]
  },
  {
   "cell_type": "code",
   "execution_count": null,
   "id": "41f0413f",
   "metadata": {
    "scrolled": false
   },
   "outputs": [],
   "source": [
    "plt.scatter(np.arange(100),df_all['beta'])"
   ]
  },
  {
   "cell_type": "code",
   "execution_count": null,
   "id": "315bd73e",
   "metadata": {},
   "outputs": [],
   "source": [
    "from sklearn.linear_model import LogisticRegression\n",
    "\n",
    "df_all = pd.concat([df_hy,df_n])\n",
    "df_all.reset_index(inplace=True)\n",
    "\n",
    "y, x_0, x_1, = df_all['true_b'],df_all['diff'], df_all['beta']\n",
    "\n",
    "\n",
    "# x_0 = (df_all['diff']-df_all['diff'].mean())/df_all['diff'].std()\n",
    "# x_1 = (df_all['alpha']-df_all['alpha'].mean())/df_all['alpha'].std()\n",
    "# x_2 = (df_all['beta']-df_all['beta'].mean())/df_all['beta'].std()\n",
    "# x_3 = (df_all['w']-df_all['w'].mean())/df_all['w'].std()\n",
    "\n",
    "X = np.vstack(\n",
    "            (\n",
    "            x_0,\n",
    "            x_1,\n",
    "              )\n",
    ")\n",
    "\n",
    "\n",
    "reg = LogisticRegression(fit_intercept=True,).fit(X.T, y)\n",
    "loading = [\n",
    "           reg.intercept_[0],\n",
    "           reg.coef_[0,0],\n",
    "           reg.coef_[0,1],\n",
    "          \n",
    "         \n",
    "]\n",
    "sns.barplot(x=['intercept','diff','beta'],y=loading)"
   ]
  }
 ],
 "metadata": {
  "kernelspec": {
   "display_name": "Python 3 (ipykernel)",
   "language": "python",
   "name": "python3"
  },
  "language_info": {
   "codemirror_mode": {
    "name": "ipython",
    "version": 3
   },
   "file_extension": ".py",
   "mimetype": "text/x-python",
   "name": "python",
   "nbconvert_exporter": "python",
   "pygments_lexer": "ipython3",
   "version": "3.8.12"
  }
 },
 "nbformat": 4,
 "nbformat_minor": 5
}
