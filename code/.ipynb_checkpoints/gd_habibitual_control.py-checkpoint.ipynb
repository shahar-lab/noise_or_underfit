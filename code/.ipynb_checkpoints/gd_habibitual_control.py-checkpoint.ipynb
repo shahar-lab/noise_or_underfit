{
 "cells": [
  {
   "cell_type": "code",
   "execution_count": 127,
   "id": "98e6c1b6",
   "metadata": {},
   "outputs": [],
   "source": [
    "import numpy as np\n",
    "import pandas as pd\n",
    "from utils import *\n",
    "from plot_stats import *"
   ]
  },
  {
   "cell_type": "code",
   "execution_count": 128,
   "id": "7a3edde0",
   "metadata": {},
   "outputs": [],
   "source": [
    "#config num of agent to simulate\n",
    "num_of_agents = 50\n",
    "\n",
    "#config num of trails for each block\n",
    "num_of_trials = 1000\n",
    "\n",
    "#config num of blocks for each agent \n",
    "num_of_block = 8\n",
    "\n",
    "# for cross valdation \n",
    "array = np.arange(num_of_block)\n",
    "cv = [np.roll(array,i) for i in range(num_of_block)]\n",
    "cv = np.array(cv)\n",
    "\n",
    "# create transtion probs\n",
    "transition_prob = np.array([[.8,.2],\n",
    "                            [.2,.8]])"
   ]
  },
  {
   "cell_type": "code",
   "execution_count": 265,
   "id": "21947a3c",
   "metadata": {},
   "outputs": [],
   "source": [
    "def gd_habitual_control(param,num_of_trials,transition_prob,reward_probs):\n",
    "    \n",
    "    n_state = 3 \n",
    "    n_action = 2\n",
    "    \n",
    "    # set up parameters \n",
    "    alpha_r = param['alpha_r']\n",
    "    beta_r = param['beta_h']\n",
    "    w_M = param['w_M']\n",
    "    eligibility_trace = .9\n",
    "    \n",
    "    alpha_h = param['alpha_h']\n",
    "    beta_h = param['beta_h']\n",
    "    w_H =  param['w_H']\n",
    "    \n",
    "    w_G = param['w_G']\n",
    "   \n",
    "    alpha_t = param['alpha_t']\n",
    "    \n",
    "    \n",
    "    # habits strengths matrix\n",
    "    H = np.array([.5,.5])\n",
    "    \n",
    "    # trasation funcation\n",
    "    T = np.zeros(shape=(n_state,n_action,n_state))\n",
    "    \n",
    "    q_mf = np.zeros(shape=(3,2))\n",
    "    # q_values of model based\n",
    "    q_mb = np.zeros(2)\n",
    "    # the weighted sum of model-based and model-free values\n",
    "    Q = np.zeros(2)\n",
    "    \n",
    "    r_G = 0\n",
    "    r_O = 0\n",
    "    \n",
    "    # transtion funcation is learn online \n",
    "    T[0,0,0] = .5\n",
    "    T[0,0,1] = .5\n",
    "    T[0,1,0] = .5\n",
    "    T[0,1,1] = .5\n",
    "    \n",
    "#     # transtion funcation is given\n",
    "#     T[0,0,0] = .8\n",
    "#     T[0,0,1] = .2\n",
    "#     T[0,1,0] = .2\n",
    "#     T[0,1,1] = .8\n",
    "    \n",
    "    \n",
    "    state_transition_mat = np.array(\n",
    "        [[2,1],\n",
    "        [1,2]]\n",
    "    )\n",
    "    \n",
    "    \n",
    "    # store data from each trial \n",
    "    data = DataOfSim(num_of_trials)\n",
    "    \n",
    "    for t in range(num_of_trials):\n",
    "        if t == 0:\n",
    "            action = np.random.choice([0,1])\n",
    "            controller = 0 \n",
    "        else:\n",
    "            # Q_model-based values of the first stage actions - Bellman’s equation \n",
    "            q_mb[0] = (transition_prob[0,0]*q_mf[1,0]) + (transition_prob[0,1]*q_mf[2,0])\n",
    "            q_mb[1] = (transition_prob[1,0]*q_mf[1,0]) + (transition_prob[1,1]*q_mf[2,0])\n",
    "            # weighted sum of model-based and model-free action values\n",
    "            Q[0] = (w_M*q_mb[0]) + ((1-w_M)*q_mf[0,0])  \n",
    "            Q[1] = (w_M*q_mb[1]) + ((1-w_M)*q_mf[0,1])\n",
    "            # calculate probability for choosing action 0 in the for first stage with softmax choice rule \n",
    "            pi_mf_mb = np.exp( beta_r*(Q)) / np.sum( np.exp(beta_r*Q) ) \n",
    "\n",
    "            H[action] = H[action] + alpha_h*(1-H[action])\n",
    "            H[1-action] = H[1-action] + alpha_h*(0-H[1-action])\n",
    "            pi_h = np.exp(beta_h*H) / np.sum( np.exp(beta_h*H) )\n",
    "  \n",
    "            # transtion funcation is learn online \n",
    "            T[0,action,state] = T[0,action,state] + alpha_t*(1-T[0,action,state])\n",
    "            T[0,action,1-state] = T[0,action,1-state] + alpha_t*(0-T[0,action,1-state])\n",
    "    \n",
    "            r_O = r_O + alpha_r*(reward-r_O)\n",
    "            \n",
    "            if controller == 0:\n",
    "                r_G = r_G + alpha_r*(reward-r_G)\n",
    "                \n",
    "            P_c = 1/(1 + np.exp(( w_G*((r_G-r_O)**2) - w_H*((H**2).mean()) )))\n",
    "            controller = np.random.choice([0,1] , p=[1-P_c, P_c]) \n",
    "            p = pi_mf_mb if controller==0 else pi_h  \n",
    "            action = np.random.choice([0,1] , p=p)\n",
    "            \n",
    "\n",
    "        # sample a transation type\n",
    "        transition_type = np.random.choice([0,1], p = transition_prob[1,:]) # 0 = rare / 1 = common\n",
    "        # transation to second stage according to action and transation type\n",
    "        state = state_transition_mat[action,transition_type]\n",
    "\n",
    "        # check if the trial is rewarded\n",
    "        reward = np.random.choice([0,1] , p=reward_probs[t,state-1,:]) \n",
    "        \n",
    "        # calculate prediction error\n",
    "        p_e_1 = q_mf[state,0] - q_mf[0,action] \n",
    "        p_e_2 = reward - q_mf[state,0] \n",
    "\n",
    "        # update q_mf according to q_learning formula\n",
    "        q_mf[0,action] = q_mf[0,action] + alpha_r*p_e_1 + eligibility_trace*(alpha_r*p_e_2) \n",
    "        q_mf[state,0] = q_mf[state,0] + alpha_r*p_e_2\n",
    "        \n",
    "        state-=1\n",
    "        # stroe data of the trial\n",
    "        data.action_1_list[t] = action\n",
    "        data.stage_2_state[t] = state - 1\n",
    "        data.transition_list[t] = transition_type\n",
    "        data.reward_list[t] = reward\n",
    "#         data.probs[t] = prob_0\n",
    "        data.correct[t] = 0 if reward_probs[t,0,0] <= 0.2 else 1\n",
    "        data.delta_q[t] = Q[0] - Q[1]\n",
    "       \n",
    "    df = pd.DataFrame(data.createDic())\n",
    "    return df, T"
   ]
  },
  {
   "cell_type": "code",
   "execution_count": 266,
   "id": "f289c6ae",
   "metadata": {
    "scrolled": false
   },
   "outputs": [],
   "source": [
    "param = { \n",
    "        'alpha_r': .6,\n",
    "        'alpha_t': .03,\n",
    "        'alpha_h': .3,\n",
    "        'beta_r': 5,\n",
    "        'beta_h' : 5,\n",
    "        'w_M' : 1,\n",
    "        'w_H' : 0,\n",
    "        'w_G' : 100\n",
    "}\n",
    "reward_probs = create_reward_probs(500,100,0.2,0.8)\n",
    "df,T = gd_habitual_control(param,500,transition_prob,reward_probs)"
   ]
  },
  {
   "cell_type": "code",
   "execution_count": 261,
   "id": "1faa69a5",
   "metadata": {},
   "outputs": [
    {
     "data": {
      "image/png": "[encoded data removed]",
      "text/plain": [
       "<Figure size 432x288 with 1 Axes>"
      ]
     },
     "metadata": {
      "needs_background": "light"
     },
     "output_type": "display_data"
    },
    {
     "data": {
      "text/plain": [
       "<AxesSubplot:ylabel='Stay Probability'>"
      ]
     },
     "execution_count": 261,
     "metadata": {},
     "output_type": "execute_result"
    }
   ],
   "source": [
    "update_data_frame(df)\n",
    "plot_stay_probs(df)"
   ]
  },
  {
   "cell_type": "code",
   "execution_count": 217,
   "id": "5da76f70",
   "metadata": {},
   "outputs": [
    {
     "data": {
      "text/plain": [
       "0.0007096703991005881"
      ]
     },
     "execution_count": 217,
     "metadata": {},
     "output_type": "execute_result"
    }
   ],
   "source": [
    "H = np.array([.5,.5])\n",
    "w_G = 30\n",
    "w_H = 1\n",
    "r_O = 0.3\n",
    "r_G = 0.8\n",
    "1 / (1+np.exp(( w_G*((r_G-r_O)**2) - w_H*((H**2).mean()) )))"
   ]
  }
 ],
 "metadata": {
  "kernelspec": {
   "display_name": "Python 3 (ipykernel)",
   "language": "python",
   "name": "python3"
  },
  "language_info": {
   "codemirror_mode": {
    "name": "ipython",
    "version": 3
   },
   "file_extension": ".py",
   "mimetype": "text/x-python",
   "name": "python",
   "nbconvert_exporter": "python",
   "pygments_lexer": "ipython3",
   "version": "3.8.12"
  }
 },
 "nbformat": 4,
 "nbformat_minor": 5
}
