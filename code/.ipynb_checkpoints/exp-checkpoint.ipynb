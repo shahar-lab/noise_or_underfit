{
 "cells": [
  {
   "cell_type": "code",
   "execution_count": 1,
   "id": "b8963103",
   "metadata": {},
   "outputs": [
    {
     "name": "stdout",
     "output_type": "stream",
     "text": [
      "INFO:tensorflow:Enabling eager execution\n",
      "INFO:tensorflow:Enabling v2 tensorshape\n",
      "INFO:tensorflow:Enabling resource variables\n",
      "INFO:tensorflow:Enabling tensor equality\n",
      "INFO:tensorflow:Enabling control flow v2\n"
     ]
    },
    {
     "ename": "ModuleNotFoundError",
     "evalue": "No module named 'helper_rnn'",
     "output_type": "error",
     "traceback": [
      "\u001b[1;31m---------------------------------------------------------------------------\u001b[0m",
      "\u001b[1;31mModuleNotFoundError\u001b[0m                       Traceback (most recent call last)",
      "\u001b[1;32m~\\AppData\\Local\\Temp/ipykernel_19212/854308120.py\u001b[0m in \u001b[0;36m<module>\u001b[1;34m\u001b[0m\n\u001b[0;32m     10\u001b[0m \u001b[1;32mfrom\u001b[0m \u001b[0mplot_stats\u001b[0m \u001b[1;32mimport\u001b[0m \u001b[1;33m*\u001b[0m\u001b[1;33m\u001b[0m\u001b[1;33m\u001b[0m\u001b[0m\n\u001b[0;32m     11\u001b[0m \u001b[1;32mfrom\u001b[0m \u001b[0mutils\u001b[0m \u001b[1;32mimport\u001b[0m \u001b[1;33m*\u001b[0m\u001b[1;33m\u001b[0m\u001b[1;33m\u001b[0m\u001b[0m\n\u001b[1;32m---> 12\u001b[1;33m \u001b[1;32mfrom\u001b[0m \u001b[0mhelper_rnn\u001b[0m \u001b[1;32mimport\u001b[0m \u001b[1;33m*\u001b[0m\u001b[1;33m\u001b[0m\u001b[1;33m\u001b[0m\u001b[0m\n\u001b[0m\u001b[0;32m     13\u001b[0m \u001b[1;33m\u001b[0m\u001b[0m\n\u001b[0;32m     14\u001b[0m \u001b[0mplt\u001b[0m\u001b[1;33m.\u001b[0m\u001b[0mrcParams\u001b[0m\u001b[1;33m[\u001b[0m\u001b[1;34m'figure.figsize'\u001b[0m\u001b[1;33m]\u001b[0m \u001b[1;33m=\u001b[0m \u001b[1;33m[\u001b[0m\u001b[1;36m8\u001b[0m\u001b[1;33m,\u001b[0m\u001b[1;36m6\u001b[0m\u001b[1;33m]\u001b[0m\u001b[1;33m\u001b[0m\u001b[1;33m\u001b[0m\u001b[0m\n",
      "\u001b[1;31mModuleNotFoundError\u001b[0m: No module named 'helper_rnn'"
     ]
    }
   ],
   "source": [
    "import numpy as np\n",
    "import matplotlib.pyplot as plt\n",
    "import pandas as pd\n",
    "import seaborn as sns\n",
    "from tqdm import tqdm\n",
    "import os\n",
    "\n",
    "import tensorflow as tf\n",
    "\n",
    "from plot_stats import *\n",
    "from utils import *\n",
    "from helper_rnn import *\n",
    "\n",
    "plt.rcParams['figure.figsize'] = [8,6]\n",
    "sns.set_style(\"darkgrid\")\n",
    "\n",
    "print(\"Num GPUs Available: \", len(tf.config.list_physical_devices('GPU')))\n",
    "\n",
    "tf.random.set_seed(26)\n",
    "np.random.seed(26)"
   ]
  },
  {
   "cell_type": "code",
   "execution_count": 2,
   "id": "086caf89",
   "metadata": {},
   "outputs": [],
   "source": [
    "def train_a_model(path, train_arr, test_arr, num_of_trials, n_cells, lr, epochs, batch_size, cp_callback):\n",
    "    \n",
    "    reward, action, state = preprocessing(path,\n",
    "                                          num_of_trials,\n",
    "                                          train_arr)\n",
    "\n",
    "    \n",
    "    X_t , y_t = one_hot_encoding(reward, action, state)\n",
    "    \n",
    "    reward, action, state = preprocessing(path,\n",
    "                                          num_of_trials,\n",
    "                                          test_arr)\n",
    "\n",
    "    \n",
    "    X_v , y_v = one_hot_encoding(reward, action, state)\n",
    "    \n",
    "    \n",
    "    model, sim_model = create_model(n_actions=2, state_size=2, n_cells=n_cells)\n",
    "    \n",
    "    model, initial_rnn_state = compile_model(model,\n",
    "                                             lr,X_t.shape[0],\n",
    "                                             n_cells)\n",
    "\n",
    "    # training the model\n",
    "    hist = model.fit(x=[X_t, initial_rnn_state],\n",
    "                     y=y_t,\n",
    "                     epochs=epochs,\n",
    "                     batch_size=batch_size,\n",
    "                     verbose=0,\n",
    "                     validation_data=([X_v,initial_rnn_state],y_v))\n",
    "\n",
    "    return model, sim_model, hist"
   ]
  },
  {
   "cell_type": "code",
   "execution_count": 19,
   "id": "63e2dd93",
   "metadata": {
    "scrolled": true
   },
   "outputs": [
    {
     "name": "stderr",
     "output_type": "stream",
     "text": [
      "\r",
      "  0%|                                                                                            | 0/4 [00:00<?, ?it/s]"
     ]
    },
    {
     "name": "stdout",
     "output_type": "stream",
     "text": [
      "*** epoch 100 ***\n",
      "agent 0\n",
      "agent 1\n",
      "agent 2\n",
      "agent 3\n",
      "agent 4\n",
      "agent 5\n",
      "agent 6\n",
      "agent 7\n",
      "agent 8\n",
      "agent 9\n",
      "agent 10\n",
      "agent 11\n",
      "agent 12\n",
      "agent 13\n",
      "agent 14\n",
      "agent 15\n",
      "agent 16\n",
      "agent 17\n",
      "agent 18\n",
      "agent 19\n",
      "agent 20\n",
      "agent 21\n",
      "agent 22\n",
      "agent 23\n",
      "agent 24\n",
      "agent 25\n",
      "agent 26\n",
      "agent 27\n",
      "agent 28\n",
      "agent 29\n",
      "agent 30\n",
      "agent 31\n",
      "agent 32\n",
      "agent 33\n",
      "agent 34\n",
      "agent 35\n",
      "agent 36\n",
      "agent 37\n",
      "agent 38\n",
      "agent 39\n",
      "agent 40\n",
      "agent 41\n",
      "agent 42\n",
      "agent 43\n",
      "agent 44\n",
      "agent 45\n",
      "agent 46\n",
      "agent 47\n",
      "agent 48\n",
      "agent 49\n"
     ]
    },
    {
     "name": "stderr",
     "output_type": "stream",
     "text": [
      "\r",
      " 25%|████████████████████▊                                                              | 1/4 [05:05<15:16, 305.35s/it]"
     ]
    },
    {
     "name": "stdout",
     "output_type": "stream",
     "text": [
      "[0.6328739780187607]\n",
      "*** epoch 200 ***\n",
      "agent 0\n",
      "agent 1\n",
      "agent 2\n",
      "agent 3\n",
      "agent 4\n",
      "agent 5\n",
      "agent 6\n",
      "agent 7\n",
      "agent 8\n",
      "agent 9\n",
      "agent 10\n",
      "agent 11\n",
      "agent 12\n",
      "agent 13\n",
      "agent 14\n",
      "agent 15\n",
      "agent 16\n",
      "agent 17\n",
      "agent 18\n",
      "agent 19\n",
      "agent 20\n",
      "agent 21\n",
      "agent 22\n",
      "agent 23\n",
      "agent 24\n",
      "agent 25\n",
      "agent 26\n",
      "agent 27\n",
      "agent 28\n",
      "agent 29\n",
      "agent 30\n",
      "agent 31\n",
      "agent 32\n",
      "agent 33\n",
      "agent 34\n",
      "agent 35\n",
      "agent 36\n",
      "agent 37\n",
      "agent 38\n",
      "agent 39\n",
      "agent 40\n",
      "agent 41\n",
      "agent 42\n",
      "agent 43\n",
      "agent 44\n",
      "agent 45\n",
      "agent 46\n",
      "agent 47\n",
      "agent 48\n",
      "agent 49\n"
     ]
    },
    {
     "name": "stderr",
     "output_type": "stream",
     "text": [
      "\r",
      " 50%|█████████████████████████████████████████▌                                         | 2/4 [13:24<13:58, 419.14s/it]"
     ]
    },
    {
     "name": "stdout",
     "output_type": "stream",
     "text": [
      "[0.6328739780187607, 0.5694618272781372]\n",
      "*** epoch 400 ***\n",
      "agent 0\n",
      "agent 1\n",
      "agent 2\n",
      "agent 3\n",
      "agent 4\n",
      "agent 5\n",
      "agent 6\n",
      "agent 7\n",
      "agent 8\n",
      "agent 9\n",
      "agent 10\n",
      "agent 11\n",
      "agent 12\n",
      "agent 13\n",
      "agent 14\n",
      "agent 15\n",
      "agent 16\n",
      "agent 17\n",
      "agent 18\n",
      "agent 19\n",
      "agent 20\n",
      "agent 21\n",
      "agent 22\n",
      "agent 23\n",
      "agent 24\n",
      "agent 25\n",
      "agent 26\n",
      "agent 27\n",
      "agent 28\n",
      "agent 29\n",
      "agent 30\n",
      "agent 31\n",
      "agent 32\n",
      "agent 33\n",
      "agent 34\n",
      "agent 35\n",
      "agent 36\n",
      "agent 37\n",
      "agent 38\n",
      "agent 39\n",
      "agent 40\n",
      "agent 41\n",
      "agent 42\n",
      "agent 43\n",
      "agent 44\n",
      "agent 45\n",
      "agent 46\n",
      "agent 47\n",
      "agent 48\n",
      "agent 49\n"
     ]
    },
    {
     "name": "stderr",
     "output_type": "stream",
     "text": [
      "\r",
      " 75%|██████████████████████████████████████████████████████████████▎                    | 3/4 [28:10<10:32, 632.47s/it]"
     ]
    },
    {
     "name": "stdout",
     "output_type": "stream",
     "text": [
      "[0.6328739780187607, 0.5694618272781372, 0.5219461995363236]\n",
      "*** epoch 500 ***\n",
      "agent 0\n",
      "agent 1\n",
      "agent 2\n",
      "agent 3\n",
      "agent 4\n",
      "agent 5\n",
      "agent 6\n",
      "agent 7\n",
      "agent 8\n",
      "agent 9\n",
      "agent 10\n",
      "agent 11\n",
      "agent 12\n",
      "agent 13\n",
      "agent 14\n",
      "agent 15\n",
      "agent 16\n",
      "agent 17\n",
      "agent 18\n",
      "agent 19\n",
      "agent 20\n",
      "agent 21\n",
      "agent 22\n",
      "agent 23\n",
      "agent 24\n",
      "agent 25\n",
      "agent 26\n",
      "agent 27\n",
      "agent 28\n",
      "agent 29\n",
      "agent 30\n",
      "agent 31\n",
      "agent 32\n",
      "agent 33\n",
      "agent 34\n",
      "agent 35\n",
      "agent 36\n",
      "agent 37\n",
      "agent 38\n",
      "agent 39\n",
      "agent 40\n",
      "agent 41\n",
      "agent 42\n",
      "agent 43\n",
      "agent 44\n",
      "agent 45\n",
      "agent 46\n",
      "agent 47\n",
      "agent 48\n",
      "agent 49\n"
     ]
    },
    {
     "name": "stderr",
     "output_type": "stream",
     "text": [
      "100%|███████████████████████████████████████████████████████████████████████████████████| 4/4 [45:51<00:00, 687.83s/it]"
     ]
    },
    {
     "name": "stdout",
     "output_type": "stream",
     "text": [
      "[0.6328739780187607, 0.5694618272781372, 0.5219461995363236, 0.541953761279583]\n"
     ]
    },
    {
     "name": "stderr",
     "output_type": "stream",
     "text": [
      "\n"
     ]
    }
   ],
   "source": [
    "train_acc = []\n",
    "test_acc = []\n",
    "test_loss = []\n",
    "\n",
    "\n",
    "cell = 5\n",
    "batch = 100\n",
    "epochs = [100,200,400,500]\n",
    "\n",
    "cv = np.array([\n",
    "               [0,1],\n",
    "                [1,0]\n",
    "               ]) \n",
    "for epoch in tqdm(epochs):\n",
    "    print(f'*** epoch {epoch} ***')\n",
    "    tt_acc = 0\n",
    "    tt_acc_t = 0\n",
    "    tt_loss = 0\n",
    "    for a in range(50):\n",
    "        print(f'agent {a}')\n",
    "        for t in cv:\n",
    "            train_arr = [t[0]]\n",
    "            test_arr = [t[1]]\n",
    "\n",
    "            path = f'data/hybrid/sim_data/hybrid_agent_{a}'\n",
    "\n",
    "            model, sim_model, hist = train_a_model(path,\n",
    "                                                  train_arr,\n",
    "                                                  test_arr,\n",
    "                                                  num_of_trials=200,\n",
    "                                                  n_cells=cell,\n",
    "                                                  lr=0.001,\n",
    "                                                  epochs=epoch,\n",
    "                                                  batch_size=batch,\n",
    "                                                  cp_callback=True\n",
    "            )\n",
    "\n",
    "            tt_acc += hist.history['accuracy'][-1]\n",
    "            tt_acc_t += hist.history['val_accuracy'][-1]\n",
    "            tt_loss += hist.history['val_binary_crossentropy'][-1]\n",
    "    \n",
    "    train_acc.append(tt_acc/100)  \n",
    "    test_acc.append(tt_acc_t/100)\n",
    "    test_loss.append(tt_loss/100)\n",
    "    print(test_loss)"
   ]
  },
  {
   "cell_type": "code",
   "execution_count": 9,
   "id": "2f2fd454",
   "metadata": {},
   "outputs": [
    {
     "data": {
      "text/plain": [
       "[0.6792920002341271,\n",
       " 0.9734493246674538,\n",
       " 1.198500207066536,\n",
       " 1.4444124647974967,\n",
       " 2.061407516300678]"
      ]
     },
     "execution_count": 9,
     "metadata": {},
     "output_type": "execute_result"
    }
   ],
   "source": [
    "# cells 30. lr 0.001\n",
    "# e 200 500 800 1000 2000"
   ]
  },
  {
   "cell_type": "code",
   "execution_count": 11,
   "id": "523994ab",
   "metadata": {},
   "outputs": [
    {
     "data": {
      "text/plain": [
       "[0.5288263574242592, 0.6753430104255677]"
      ]
     },
     "execution_count": 11,
     "metadata": {},
     "output_type": "execute_result"
    }
   ],
   "source": [
    "# e 200 and 500. cells 10. lr 0.001"
   ]
  },
  {
   "cell_type": "code",
   "execution_count": 13,
   "id": "052ab3c9",
   "metadata": {},
   "outputs": [
    {
     "data": {
      "text/plain": [
       "[1.0166496016085147, 1.6456142246723175]"
      ]
     },
     "execution_count": 13,
     "metadata": {},
     "output_type": "execute_result"
    }
   ],
   "source": [
    "# e 200 and 500. cells 10. lr 0.01"
   ]
  },
  {
   "cell_type": "code",
   "execution_count": 15,
   "id": "50da853c",
   "metadata": {},
   "outputs": [
    {
     "data": {
      "text/plain": [
       "[0.5631232652068138, 0.5391559466719628]"
      ]
     },
     "execution_count": 15,
     "metadata": {},
     "output_type": "execute_result"
    }
   ],
   "source": [
    "# e 200 and 500. cells 5. lr 0.001"
   ]
  },
  {
   "cell_type": "code",
   "execution_count": 17,
   "id": "de710c20",
   "metadata": {},
   "outputs": [
    {
     "data": {
      "text/plain": [
       "[0.6196852266788483,\n",
       " 0.57273413002491,\n",
       " 0.5340087789297104,\n",
       " 0.5263048848509788,\n",
       " 0.5673557734489441]"
      ]
     },
     "execution_count": 17,
     "metadata": {},
     "output_type": "execute_result"
    }
   ],
   "source": [
    "# e 400. cells [1,2,4,5,8]. lr 0.001"
   ]
  },
  {
   "cell_type": "code",
   "execution_count": null,
   "id": "fb4f6ef6",
   "metadata": {},
   "outputs": [],
   "source": [
    "# e 400 cells=5 0.52194"
   ]
  }
 ],
 "metadata": {
  "kernelspec": {
   "display_name": "Python 3 (ipykernel)",
   "language": "python",
   "name": "python3"
  },
  "language_info": {
   "codemirror_mode": {
    "name": "ipython",
    "version": 3
   },
   "file_extension": ".py",
   "mimetype": "text/x-python",
   "name": "python",
   "nbconvert_exporter": "python",
   "pygments_lexer": "ipython3",
   "version": "3.8.12"
  }
 },
 "nbformat": 4,
 "nbformat_minor": 5
}
